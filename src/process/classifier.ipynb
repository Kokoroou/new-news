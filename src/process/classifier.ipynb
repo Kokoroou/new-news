{
  "nbformat": 4,
  "nbformat_minor": 0,
  "metadata": {
    "colab": {
      "provenance": []
    },
    "kernelspec": {
      "name": "python3",
      "display_name": "Python 3"
    },
    "language_info": {
      "name": "python"
    },
    "gpuClass": "standard",
    "widgets": {
      "application/vnd.jupyter.widget-state+json": {
        "f3aca4146c7c404391cc42712a0003d6": {
          "model_module": "@jupyter-widgets/controls",
          "model_name": "HBoxModel",
          "model_module_version": "1.5.0",
          "state": {
            "_dom_classes": [],
            "_model_module": "@jupyter-widgets/controls",
            "_model_module_version": "1.5.0",
            "_model_name": "HBoxModel",
            "_view_count": null,
            "_view_module": "@jupyter-widgets/controls",
            "_view_module_version": "1.5.0",
            "_view_name": "HBoxView",
            "box_style": "",
            "children": [
              "IPY_MODEL_dfd0d73808e7401fa1b34914f5b94ddd",
              "IPY_MODEL_8012ca23be7040b2b32edbe20db399bd",
              "IPY_MODEL_b3724594d67f4d0fbf80a8de7e423940"
            ],
            "layout": "IPY_MODEL_d9d7c2b1b65f44b687050afd0a666cee"
          }
        },
        "dfd0d73808e7401fa1b34914f5b94ddd": {
          "model_module": "@jupyter-widgets/controls",
          "model_name": "HTMLModel",
          "model_module_version": "1.5.0",
          "state": {
            "_dom_classes": [],
            "_model_module": "@jupyter-widgets/controls",
            "_model_module_version": "1.5.0",
            "_model_name": "HTMLModel",
            "_view_count": null,
            "_view_module": "@jupyter-widgets/controls",
            "_view_module_version": "1.5.0",
            "_view_name": "HTMLView",
            "description": "",
            "description_tooltip": null,
            "layout": "IPY_MODEL_6599e4b10c5947138628cbd1cb05cd0d",
            "placeholder": "​",
            "style": "IPY_MODEL_2e407e31f94c4381a3cee4212814017a",
            "value": "Downloading (…)&quot;pytorch_model.bin&quot;;: 100%"
          }
        },
        "8012ca23be7040b2b32edbe20db399bd": {
          "model_module": "@jupyter-widgets/controls",
          "model_name": "FloatProgressModel",
          "model_module_version": "1.5.0",
          "state": {
            "_dom_classes": [],
            "_model_module": "@jupyter-widgets/controls",
            "_model_module_version": "1.5.0",
            "_model_name": "FloatProgressModel",
            "_view_count": null,
            "_view_module": "@jupyter-widgets/controls",
            "_view_module_version": "1.5.0",
            "_view_name": "ProgressView",
            "bar_style": "success",
            "description": "",
            "description_tooltip": null,
            "layout": "IPY_MODEL_70f630392d8c4e03b585c28eb6636ead",
            "max": 542923308,
            "min": 0,
            "orientation": "horizontal",
            "style": "IPY_MODEL_e0d864820b584be289de94d79942c092",
            "value": 542923308
          }
        },
        "b3724594d67f4d0fbf80a8de7e423940": {
          "model_module": "@jupyter-widgets/controls",
          "model_name": "HTMLModel",
          "model_module_version": "1.5.0",
          "state": {
            "_dom_classes": [],
            "_model_module": "@jupyter-widgets/controls",
            "_model_module_version": "1.5.0",
            "_model_name": "HTMLModel",
            "_view_count": null,
            "_view_module": "@jupyter-widgets/controls",
            "_view_module_version": "1.5.0",
            "_view_name": "HTMLView",
            "description": "",
            "description_tooltip": null,
            "layout": "IPY_MODEL_be2fa954bb3c4799849f69df84379084",
            "placeholder": "​",
            "style": "IPY_MODEL_1614e149c46948a48d3722a64b2cf432",
            "value": " 543M/543M [00:05&lt;00:00, 100MB/s]"
          }
        },
        "d9d7c2b1b65f44b687050afd0a666cee": {
          "model_module": "@jupyter-widgets/base",
          "model_name": "LayoutModel",
          "model_module_version": "1.2.0",
          "state": {
            "_model_module": "@jupyter-widgets/base",
            "_model_module_version": "1.2.0",
            "_model_name": "LayoutModel",
            "_view_count": null,
            "_view_module": "@jupyter-widgets/base",
            "_view_module_version": "1.2.0",
            "_view_name": "LayoutView",
            "align_content": null,
            "align_items": null,
            "align_self": null,
            "border": null,
            "bottom": null,
            "display": null,
            "flex": null,
            "flex_flow": null,
            "grid_area": null,
            "grid_auto_columns": null,
            "grid_auto_flow": null,
            "grid_auto_rows": null,
            "grid_column": null,
            "grid_gap": null,
            "grid_row": null,
            "grid_template_areas": null,
            "grid_template_columns": null,
            "grid_template_rows": null,
            "height": null,
            "justify_content": null,
            "justify_items": null,
            "left": null,
            "margin": null,
            "max_height": null,
            "max_width": null,
            "min_height": null,
            "min_width": null,
            "object_fit": null,
            "object_position": null,
            "order": null,
            "overflow": null,
            "overflow_x": null,
            "overflow_y": null,
            "padding": null,
            "right": null,
            "top": null,
            "visibility": null,
            "width": null
          }
        },
        "6599e4b10c5947138628cbd1cb05cd0d": {
          "model_module": "@jupyter-widgets/base",
          "model_name": "LayoutModel",
          "model_module_version": "1.2.0",
          "state": {
            "_model_module": "@jupyter-widgets/base",
            "_model_module_version": "1.2.0",
            "_model_name": "LayoutModel",
            "_view_count": null,
            "_view_module": "@jupyter-widgets/base",
            "_view_module_version": "1.2.0",
            "_view_name": "LayoutView",
            "align_content": null,
            "align_items": null,
            "align_self": null,
            "border": null,
            "bottom": null,
            "display": null,
            "flex": null,
            "flex_flow": null,
            "grid_area": null,
            "grid_auto_columns": null,
            "grid_auto_flow": null,
            "grid_auto_rows": null,
            "grid_column": null,
            "grid_gap": null,
            "grid_row": null,
            "grid_template_areas": null,
            "grid_template_columns": null,
            "grid_template_rows": null,
            "height": null,
            "justify_content": null,
            "justify_items": null,
            "left": null,
            "margin": null,
            "max_height": null,
            "max_width": null,
            "min_height": null,
            "min_width": null,
            "object_fit": null,
            "object_position": null,
            "order": null,
            "overflow": null,
            "overflow_x": null,
            "overflow_y": null,
            "padding": null,
            "right": null,
            "top": null,
            "visibility": null,
            "width": null
          }
        },
        "2e407e31f94c4381a3cee4212814017a": {
          "model_module": "@jupyter-widgets/controls",
          "model_name": "DescriptionStyleModel",
          "model_module_version": "1.5.0",
          "state": {
            "_model_module": "@jupyter-widgets/controls",
            "_model_module_version": "1.5.0",
            "_model_name": "DescriptionStyleModel",
            "_view_count": null,
            "_view_module": "@jupyter-widgets/base",
            "_view_module_version": "1.2.0",
            "_view_name": "StyleView",
            "description_width": ""
          }
        },
        "70f630392d8c4e03b585c28eb6636ead": {
          "model_module": "@jupyter-widgets/base",
          "model_name": "LayoutModel",
          "model_module_version": "1.2.0",
          "state": {
            "_model_module": "@jupyter-widgets/base",
            "_model_module_version": "1.2.0",
            "_model_name": "LayoutModel",
            "_view_count": null,
            "_view_module": "@jupyter-widgets/base",
            "_view_module_version": "1.2.0",
            "_view_name": "LayoutView",
            "align_content": null,
            "align_items": null,
            "align_self": null,
            "border": null,
            "bottom": null,
            "display": null,
            "flex": null,
            "flex_flow": null,
            "grid_area": null,
            "grid_auto_columns": null,
            "grid_auto_flow": null,
            "grid_auto_rows": null,
            "grid_column": null,
            "grid_gap": null,
            "grid_row": null,
            "grid_template_areas": null,
            "grid_template_columns": null,
            "grid_template_rows": null,
            "height": null,
            "justify_content": null,
            "justify_items": null,
            "left": null,
            "margin": null,
            "max_height": null,
            "max_width": null,
            "min_height": null,
            "min_width": null,
            "object_fit": null,
            "object_position": null,
            "order": null,
            "overflow": null,
            "overflow_x": null,
            "overflow_y": null,
            "padding": null,
            "right": null,
            "top": null,
            "visibility": null,
            "width": null
          }
        },
        "e0d864820b584be289de94d79942c092": {
          "model_module": "@jupyter-widgets/controls",
          "model_name": "ProgressStyleModel",
          "model_module_version": "1.5.0",
          "state": {
            "_model_module": "@jupyter-widgets/controls",
            "_model_module_version": "1.5.0",
            "_model_name": "ProgressStyleModel",
            "_view_count": null,
            "_view_module": "@jupyter-widgets/base",
            "_view_module_version": "1.2.0",
            "_view_name": "StyleView",
            "bar_color": null,
            "description_width": ""
          }
        },
        "be2fa954bb3c4799849f69df84379084": {
          "model_module": "@jupyter-widgets/base",
          "model_name": "LayoutModel",
          "model_module_version": "1.2.0",
          "state": {
            "_model_module": "@jupyter-widgets/base",
            "_model_module_version": "1.2.0",
            "_model_name": "LayoutModel",
            "_view_count": null,
            "_view_module": "@jupyter-widgets/base",
            "_view_module_version": "1.2.0",
            "_view_name": "LayoutView",
            "align_content": null,
            "align_items": null,
            "align_self": null,
            "border": null,
            "bottom": null,
            "display": null,
            "flex": null,
            "flex_flow": null,
            "grid_area": null,
            "grid_auto_columns": null,
            "grid_auto_flow": null,
            "grid_auto_rows": null,
            "grid_column": null,
            "grid_gap": null,
            "grid_row": null,
            "grid_template_areas": null,
            "grid_template_columns": null,
            "grid_template_rows": null,
            "height": null,
            "justify_content": null,
            "justify_items": null,
            "left": null,
            "margin": null,
            "max_height": null,
            "max_width": null,
            "min_height": null,
            "min_width": null,
            "object_fit": null,
            "object_position": null,
            "order": null,
            "overflow": null,
            "overflow_x": null,
            "overflow_y": null,
            "padding": null,
            "right": null,
            "top": null,
            "visibility": null,
            "width": null
          }
        },
        "1614e149c46948a48d3722a64b2cf432": {
          "model_module": "@jupyter-widgets/controls",
          "model_name": "DescriptionStyleModel",
          "model_module_version": "1.5.0",
          "state": {
            "_model_module": "@jupyter-widgets/controls",
            "_model_module_version": "1.5.0",
            "_model_name": "DescriptionStyleModel",
            "_view_count": null,
            "_view_module": "@jupyter-widgets/base",
            "_view_module_version": "1.2.0",
            "_view_name": "StyleView",
            "description_width": ""
          }
        }
      }
    }
  },
  "cells": [
    {
      "cell_type": "markdown",
      "source": [
        "# Load Dataset\n"
      ],
      "metadata": {
        "id": "vBVGBAbazLRJ"
      }
    },
    {
      "cell_type": "code",
      "source": [
        "import torch\n",
        "import numpy as np\n",
        "import pandas as pd\n",
        "import seaborn as sns\n",
        "import matplotlib.pyplot as plt\n",
        "import concurrent.futures\n",
        "import torch.nn as nn\n",
        "from torch.optim import AdamW\n",
        "from torch.utils.data import Dataset, DataLoader\n",
        "from gensim.utils import simple_preprocess\n",
        "from sklearn.model_selection import StratifiedKFold\n",
        "from sklearn.metrics import classification_report, confusion_matrix\n",
        "from transformers import get_linear_schedule_with_warmup, AutoTokenizer, AutoModel, logging\n",
        "import warnings\n",
        "warnings.filterwarnings(\"ignore\")\n",
        "\n",
        "logging.set_verbosity_error()\n",
        "\n",
        "from torch.utils.data import TensorDataset, random_split"
      ],
      "metadata": {
        "id": "gwMmS0Ff2_9U"
      },
      "execution_count": null,
      "outputs": []
    },
    {
      "cell_type": "code",
      "execution_count": null,
      "metadata": {
        "colab": {
          "base_uri": "https://localhost:8080/"
        },
        "id": "m7Pzvd3sy8dx",
        "outputId": "81f31640-6c76-4575-ac55-1d232b81a3ef"
      },
      "outputs": [
        {
          "output_type": "stream",
          "name": "stdout",
          "text": [
            "Mounted at /content/gdrive\n"
          ]
        }
      ],
      "source": [
        "from google.colab import drive\n",
        "\n",
        "drive.mount('/content/gdrive')"
      ]
    },
    {
      "cell_type": "code",
      "source": [
        "device = torch.device('cuda:0' if torch.cuda.is_available() else 'cpu')\n",
        "EPOCHS = 6\n",
        "N_SPLITS = 5"
      ],
      "metadata": {
        "id": "rVXh97hQXyHR"
      },
      "execution_count": null,
      "outputs": []
    },
    {
      "cell_type": "code",
      "source": [
        "def listPaths(path):\n",
        "  pathfiles = list()\n",
        "  for pathfile in glob.glob(path):\n",
        "    pathfiles.append(pathfile)\n",
        "  return pathfiles"
      ],
      "metadata": {
        "id": "rm8Ju9N422WT"
      },
      "execution_count": null,
      "outputs": []
    },
    {
      "cell_type": "code",
      "source": [
        "import glob\n",
        "import pandas as pd\n",
        "\n",
        "data_pathsXe = listPaths('/content/gdrive/MyDrive/data3/Xe/*')\n",
        "data_pathsTuongThuat = listPaths('/content/gdrive/MyDrive/data3/TuongThuat/*')\n",
        "data_pathsThoiSu = listPaths('/content/gdrive/MyDrive/data3/ThoiSu/*')\n",
        "data_pathsTheThao = listPaths('/content/gdrive/MyDrive/data3/TheThao/*')\n",
        "data_pathsTheGioi = listPaths('/content/gdrive/MyDrive/data3/TheGioi/*')\n",
        "data_pathsSucKhoe = listPaths('/content/gdrive/MyDrive/data3/SucKhoe/*')\n",
        "data_pathsSoHoa = listPaths('/content/gdrive/MyDrive/data3/SoHoa/*')\n",
        "data_pathsPhapLuat = listPaths('/content/gdrive/MyDrive/data3/PhapLuat/*')\n",
        "data_pathsKinhDoanh = listPaths('/content/gdrive/MyDrive/data3/KinhDoanh/*')\n",
        "data_pathsKhoaHoc = listPaths('/content/gdrive/MyDrive/data3/KhoaHoc/*')\n",
        "data_pathsHai = listPaths('/content/gdrive/MyDrive/data3/Hai/*')\n",
        "data_pathsGocNhin = listPaths('/content/gdrive/MyDrive/data3/GocNhin/*')\n",
        "data_pathsGiaoDuc = listPaths('/content/gdrive/MyDrive/data3/GiaoDuc/*')\n",
        "data_pathsGiaiTri = listPaths('/content/gdrive/MyDrive/data3/GiaiTri/*')\n",
        "data_pathsDuLich = listPaths('/content/gdrive/MyDrive/data3/DuLich/*')\n",
        "data_pathsDoiSong = listPaths('/content/gdrive/MyDrive/data3/DoiSong/*')"
      ],
      "metadata": {
        "id": "PyEklsoDZI4Y"
      },
      "execution_count": null,
      "outputs": []
    },
    {
      "cell_type": "code",
      "source": [
        "def read_content(pathfile):\n",
        "  with open(pathfile) as f:\n",
        "    rows  = f.readlines()\n",
        "    original = ' '.join(''.join(rows[2:]).split('\\n'))         \n",
        "  return {'title' : rows,\n",
        "            'original': original}"
      ],
      "metadata": {
        "id": "lD0vG556Yn22"
      },
      "execution_count": null,
      "outputs": []
    },
    {
      "cell_type": "code",
      "source": [
        "def get_dataframe(pathfiles):\n",
        "  with concurrent.futures.ProcessPoolExecutor() as executor:\n",
        "    data = executor.map(read_content, pathfiles)\n",
        "  \n",
        "  # Make blank dataframe\n",
        "  data_df = list()\n",
        "  for d in data:\n",
        "    data_df.append(d)\n",
        "  data_df = pd.DataFrame(data_df)\n",
        "  data_df.dropna(inplace = True)\n",
        "  data_df = data_df.sample(frac=1).reset_index(drop=True)\n",
        "\n",
        "  return data_df"
      ],
      "metadata": {
        "id": "3-Cw2FhoYpHl"
      },
      "execution_count": null,
      "outputs": []
    },
    {
      "cell_type": "code",
      "source": [
        "df1 = get_dataframe(data_pathsXe)\n",
        "df2 = get_dataframe(data_pathsTuongThuat)#bỏ\n",
        "df3 = get_dataframe(data_pathsThoiSu)\n",
        "df4 = get_dataframe(data_pathsTheThao)\n",
        "df5 = get_dataframe(data_pathsTheGioi)\n",
        "df6 = get_dataframe(data_pathsSucKhoe)\n",
        "df7 = get_dataframe(data_pathsSoHoa)\n",
        "df8 = get_dataframe(data_pathsPhapLuat)\n",
        "df9 = get_dataframe(data_pathsKinhDoanh)\n",
        "df10 = get_dataframe(data_pathsKhoaHoc)\n",
        "df11 = get_dataframe(data_pathsHai)\n",
        "df12 = get_dataframe(data_pathsGocNhin)\n",
        "df13 = get_dataframe(data_pathsGiaoDuc)\n",
        "df14 = get_dataframe(data_pathsGiaiTri)\n",
        "df15 = get_dataframe(data_pathsDuLich)\n",
        "df16 = get_dataframe(data_pathsDoiSong)"
      ],
      "metadata": {
        "id": "7-qu_4Rxaiz8"
      },
      "execution_count": null,
      "outputs": []
    },
    {
      "cell_type": "code",
      "source": [
        "df = pd.concat([df1,df2,df3,df4,df5,df6,df7,df8,df9,df10,df11,df12,df13,df14,df15,df16])"
      ],
      "metadata": {
        "id": "jWT4e-B-fHeY"
      },
      "execution_count": null,
      "outputs": []
    },
    {
      "cell_type": "code",
      "source": [
        "df = df.sample(frac = 1).reset_index(drop=True)"
      ],
      "metadata": {
        "id": "GhKffECDnTOm"
      },
      "execution_count": null,
      "outputs": []
    },
    {
      "cell_type": "code",
      "source": [
        "new_column = pd.Series([\"DoiSong\"] * len(df16))\n",
        "\n",
        "df16[\"label\"] = new_column"
      ],
      "metadata": {
        "id": "ijZD726SlEV5"
      },
      "execution_count": null,
      "outputs": []
    },
    {
      "cell_type": "code",
      "source": [
        "df5.info()"
      ],
      "metadata": {
        "colab": {
          "base_uri": "https://localhost:8080/"
        },
        "id": "ExAGkVWw5DyW",
        "outputId": "6cf83719-c699-4731-9861-b04e9ae78c4f"
      },
      "execution_count": null,
      "outputs": [
        {
          "output_type": "stream",
          "name": "stdout",
          "text": [
            "<class 'pandas.core.frame.DataFrame'>\n",
            "RangeIndex: 611 entries, 0 to 610\n",
            "Data columns (total 3 columns):\n",
            " #   Column    Non-Null Count  Dtype \n",
            "---  ------    --------------  ----- \n",
            " 0   title     611 non-null    object\n",
            " 1   original  611 non-null    object\n",
            " 2   label     611 non-null    object\n",
            "dtypes: object(3)\n",
            "memory usage: 14.4+ KB\n"
          ]
        }
      ]
    },
    {
      "cell_type": "code",
      "source": [
        "df.to_csv('/content/gdrive/MyDrive/Thư mục không có tiêu đề/df_data.csv', index=False)"
      ],
      "metadata": {
        "id": "ByeHeDMHkmZz"
      },
      "execution_count": null,
      "outputs": []
    },
    {
      "cell_type": "code",
      "source": [
        "df.sample(10)"
      ],
      "metadata": {
        "colab": {
          "base_uri": "https://localhost:8080/",
          "height": 363
        },
        "id": "lIRyhkKukYrp",
        "outputId": "47bb8443-9f09-4cdd-f5b8-bce7f0357ca5"
      },
      "execution_count": null,
      "outputs": [
        {
          "output_type": "execute_result",
          "data": {
            "text/plain": [
              "                                                  title  \\\n",
              "328   [Xe tải đi thẳng va chạm với xe con rẽ trái - ...   \n",
              "4218  [Elon Musk đặt tham vọng 'siêu ứng dụng' X \\n,...   \n",
              "5572  [Học Hoá vô cơ thì nên du học ở đâu? \\n, \\n, L...   \n",
              "474   [1,news1.txt,https://vnexpress.net/hoi-tuong-q...   \n",
              "7417  [Năm điều khiến nữ thạc sĩ người Việt nuối tiế...   \n",
              "6072  [Phát hiện mảnh vỡ lớn nhất từ thảm họa tàu co...   \n",
              "4458  [Thùy Dung làm đám cưới vào tháng 12 \\n, \\n, Á...   \n",
              "2774  [Thoát vị đĩa đệm có thể tự khỏi không? \\n, \\n...   \n",
              "762   [Vị chúa Trịnh cuối cùng của nước ta là ai?\\n,...   \n",
              "4795  [Cuộc chiến pháp lý giữa người mắc ung thư với...   \n",
              "\n",
              "                                               original     label  \n",
              "328   Hải DươngÔtô màu đỏ dừng lại trước đèn giao th...        Xe  \n",
              "4218  Musk cho biết ông có kế hoạch biến Twitter thà...     SoHoa  \n",
              "5572  Là sinh viên ngành Hoá vô cơ, trường Đại học B...   GiaoDuc  \n",
              "474   3,news3.txt,https://vnexpress.net/khach-viet-m...    DuLich  \n",
              "7417  Không rèn luyện tư duy tài chính cá nhân, kết ...   GiaoDuc  \n",
              "6072  MỹMảnh vỡ lớn nhất từ tàu con thoi Challenger ...   KhoaHoc  \n",
              "4458  Á hậu Thùy Dung và bạn trai sẽ tổ chức đám cướ...   GiaiTri  \n",
              "2774  Nếu thoát vị đĩa đệm chưa gây chèn ép rễ thần ...   SucKhoe  \n",
              "762   Có 11 đời chúa Trịnh chính thức cai quản xứ Đà...       Hai  \n",
              "4795  MỹTrước năm 1950, các tập đoàn thuốc lá khẳng ...  PhapLuat  "
            ],
            "text/html": [
              "\n",
              "  <div id=\"df-d9237924-5576-4d70-a61e-a8b1be14c856\">\n",
              "    <div class=\"colab-df-container\">\n",
              "      <div>\n",
              "<style scoped>\n",
              "    .dataframe tbody tr th:only-of-type {\n",
              "        vertical-align: middle;\n",
              "    }\n",
              "\n",
              "    .dataframe tbody tr th {\n",
              "        vertical-align: top;\n",
              "    }\n",
              "\n",
              "    .dataframe thead th {\n",
              "        text-align: right;\n",
              "    }\n",
              "</style>\n",
              "<table border=\"1\" class=\"dataframe\">\n",
              "  <thead>\n",
              "    <tr style=\"text-align: right;\">\n",
              "      <th></th>\n",
              "      <th>title</th>\n",
              "      <th>original</th>\n",
              "      <th>label</th>\n",
              "    </tr>\n",
              "  </thead>\n",
              "  <tbody>\n",
              "    <tr>\n",
              "      <th>328</th>\n",
              "      <td>[Xe tải đi thẳng va chạm với xe con rẽ trái - ...</td>\n",
              "      <td>Hải DươngÔtô màu đỏ dừng lại trước đèn giao th...</td>\n",
              "      <td>Xe</td>\n",
              "    </tr>\n",
              "    <tr>\n",
              "      <th>4218</th>\n",
              "      <td>[Elon Musk đặt tham vọng 'siêu ứng dụng' X \\n,...</td>\n",
              "      <td>Musk cho biết ông có kế hoạch biến Twitter thà...</td>\n",
              "      <td>SoHoa</td>\n",
              "    </tr>\n",
              "    <tr>\n",
              "      <th>5572</th>\n",
              "      <td>[Học Hoá vô cơ thì nên du học ở đâu? \\n, \\n, L...</td>\n",
              "      <td>Là sinh viên ngành Hoá vô cơ, trường Đại học B...</td>\n",
              "      <td>GiaoDuc</td>\n",
              "    </tr>\n",
              "    <tr>\n",
              "      <th>474</th>\n",
              "      <td>[1,news1.txt,https://vnexpress.net/hoi-tuong-q...</td>\n",
              "      <td>3,news3.txt,https://vnexpress.net/khach-viet-m...</td>\n",
              "      <td>DuLich</td>\n",
              "    </tr>\n",
              "    <tr>\n",
              "      <th>7417</th>\n",
              "      <td>[Năm điều khiến nữ thạc sĩ người Việt nuối tiế...</td>\n",
              "      <td>Không rèn luyện tư duy tài chính cá nhân, kết ...</td>\n",
              "      <td>GiaoDuc</td>\n",
              "    </tr>\n",
              "    <tr>\n",
              "      <th>6072</th>\n",
              "      <td>[Phát hiện mảnh vỡ lớn nhất từ thảm họa tàu co...</td>\n",
              "      <td>MỹMảnh vỡ lớn nhất từ tàu con thoi Challenger ...</td>\n",
              "      <td>KhoaHoc</td>\n",
              "    </tr>\n",
              "    <tr>\n",
              "      <th>4458</th>\n",
              "      <td>[Thùy Dung làm đám cưới vào tháng 12 \\n, \\n, Á...</td>\n",
              "      <td>Á hậu Thùy Dung và bạn trai sẽ tổ chức đám cướ...</td>\n",
              "      <td>GiaiTri</td>\n",
              "    </tr>\n",
              "    <tr>\n",
              "      <th>2774</th>\n",
              "      <td>[Thoát vị đĩa đệm có thể tự khỏi không? \\n, \\n...</td>\n",
              "      <td>Nếu thoát vị đĩa đệm chưa gây chèn ép rễ thần ...</td>\n",
              "      <td>SucKhoe</td>\n",
              "    </tr>\n",
              "    <tr>\n",
              "      <th>762</th>\n",
              "      <td>[Vị chúa Trịnh cuối cùng của nước ta là ai?\\n,...</td>\n",
              "      <td>Có 11 đời chúa Trịnh chính thức cai quản xứ Đà...</td>\n",
              "      <td>Hai</td>\n",
              "    </tr>\n",
              "    <tr>\n",
              "      <th>4795</th>\n",
              "      <td>[Cuộc chiến pháp lý giữa người mắc ung thư với...</td>\n",
              "      <td>MỹTrước năm 1950, các tập đoàn thuốc lá khẳng ...</td>\n",
              "      <td>PhapLuat</td>\n",
              "    </tr>\n",
              "  </tbody>\n",
              "</table>\n",
              "</div>\n",
              "      <button class=\"colab-df-convert\" onclick=\"convertToInteractive('df-d9237924-5576-4d70-a61e-a8b1be14c856')\"\n",
              "              title=\"Convert this dataframe to an interactive table.\"\n",
              "              style=\"display:none;\">\n",
              "        \n",
              "  <svg xmlns=\"http://www.w3.org/2000/svg\" height=\"24px\"viewBox=\"0 0 24 24\"\n",
              "       width=\"24px\">\n",
              "    <path d=\"M0 0h24v24H0V0z\" fill=\"none\"/>\n",
              "    <path d=\"M18.56 5.44l.94 2.06.94-2.06 2.06-.94-2.06-.94-.94-2.06-.94 2.06-2.06.94zm-11 1L8.5 8.5l.94-2.06 2.06-.94-2.06-.94L8.5 2.5l-.94 2.06-2.06.94zm10 10l.94 2.06.94-2.06 2.06-.94-2.06-.94-.94-2.06-.94 2.06-2.06.94z\"/><path d=\"M17.41 7.96l-1.37-1.37c-.4-.4-.92-.59-1.43-.59-.52 0-1.04.2-1.43.59L10.3 9.45l-7.72 7.72c-.78.78-.78 2.05 0 2.83L4 21.41c.39.39.9.59 1.41.59.51 0 1.02-.2 1.41-.59l7.78-7.78 2.81-2.81c.8-.78.8-2.07 0-2.86zM5.41 20L4 18.59l7.72-7.72 1.47 1.35L5.41 20z\"/>\n",
              "  </svg>\n",
              "      </button>\n",
              "      \n",
              "  <style>\n",
              "    .colab-df-container {\n",
              "      display:flex;\n",
              "      flex-wrap:wrap;\n",
              "      gap: 12px;\n",
              "    }\n",
              "\n",
              "    .colab-df-convert {\n",
              "      background-color: #E8F0FE;\n",
              "      border: none;\n",
              "      border-radius: 50%;\n",
              "      cursor: pointer;\n",
              "      display: none;\n",
              "      fill: #1967D2;\n",
              "      height: 32px;\n",
              "      padding: 0 0 0 0;\n",
              "      width: 32px;\n",
              "    }\n",
              "\n",
              "    .colab-df-convert:hover {\n",
              "      background-color: #E2EBFA;\n",
              "      box-shadow: 0px 1px 2px rgba(60, 64, 67, 0.3), 0px 1px 3px 1px rgba(60, 64, 67, 0.15);\n",
              "      fill: #174EA6;\n",
              "    }\n",
              "\n",
              "    [theme=dark] .colab-df-convert {\n",
              "      background-color: #3B4455;\n",
              "      fill: #D2E3FC;\n",
              "    }\n",
              "\n",
              "    [theme=dark] .colab-df-convert:hover {\n",
              "      background-color: #434B5C;\n",
              "      box-shadow: 0px 1px 3px 1px rgba(0, 0, 0, 0.15);\n",
              "      filter: drop-shadow(0px 1px 2px rgba(0, 0, 0, 0.3));\n",
              "      fill: #FFFFFF;\n",
              "    }\n",
              "  </style>\n",
              "\n",
              "      <script>\n",
              "        const buttonEl =\n",
              "          document.querySelector('#df-d9237924-5576-4d70-a61e-a8b1be14c856 button.colab-df-convert');\n",
              "        buttonEl.style.display =\n",
              "          google.colab.kernel.accessAllowed ? 'block' : 'none';\n",
              "\n",
              "        async function convertToInteractive(key) {\n",
              "          const element = document.querySelector('#df-d9237924-5576-4d70-a61e-a8b1be14c856');\n",
              "          const dataTable =\n",
              "            await google.colab.kernel.invokeFunction('convertToInteractive',\n",
              "                                                     [key], {});\n",
              "          if (!dataTable) return;\n",
              "\n",
              "          const docLinkHtml = 'Like what you see? Visit the ' +\n",
              "            '<a target=\"_blank\" href=https://colab.research.google.com/notebooks/data_table.ipynb>data table notebook</a>'\n",
              "            + ' to learn more about interactive tables.';\n",
              "          element.innerHTML = '';\n",
              "          dataTable['output_type'] = 'display_data';\n",
              "          await google.colab.output.renderOutput(dataTable, element);\n",
              "          const docLink = document.createElement('div');\n",
              "          docLink.innerHTML = docLinkHtml;\n",
              "          element.appendChild(docLink);\n",
              "        }\n",
              "      </script>\n",
              "    </div>\n",
              "  </div>\n",
              "  "
            ]
          },
          "metadata": {},
          "execution_count": 63
        }
      ]
    },
    {
      "cell_type": "code",
      "source": [
        "n_rows = df.shape[0]\n",
        "\n",
        "# Chia DataFrame thành 3 phần theo tỉ lệ 80-10-10\n",
        "train_df = df.iloc[:int(0.8 * n_rows), :]\n",
        "val_df = df.iloc[int(0.8 * n_rows):int(0.9 * n_rows), :]\n",
        "test_df = df.iloc[int(0.9 * n_rows):, :]"
      ],
      "metadata": {
        "id": "d6A2e5jr5vfd"
      },
      "execution_count": null,
      "outputs": []
    },
    {
      "cell_type": "code",
      "source": [
        "train_df.info()"
      ],
      "metadata": {
        "colab": {
          "base_uri": "https://localhost:8080/"
        },
        "id": "lBFQgsU-7s2a",
        "outputId": "0f1dcfee-4884-4b59-e698-4aec617e3591"
      },
      "execution_count": null,
      "outputs": [
        {
          "output_type": "stream",
          "name": "stdout",
          "text": [
            "<class 'pandas.core.frame.DataFrame'>\n",
            "RangeIndex: 6280 entries, 0 to 6279\n",
            "Data columns (total 3 columns):\n",
            " #   Column    Non-Null Count  Dtype \n",
            "---  ------    --------------  ----- \n",
            " 0   title     6280 non-null   object\n",
            " 1   original  6280 non-null   object\n",
            " 2   label     6280 non-null   object\n",
            "dtypes: object(3)\n",
            "memory usage: 147.3+ KB\n"
          ]
        }
      ]
    },
    {
      "cell_type": "code",
      "source": [
        "test_df.info()"
      ],
      "metadata": {
        "colab": {
          "base_uri": "https://localhost:8080/"
        },
        "id": "Di_r2yYx71QT",
        "outputId": "12b55750-4fb4-4999-aca8-a4b13dcac2db"
      },
      "execution_count": null,
      "outputs": [
        {
          "output_type": "stream",
          "name": "stdout",
          "text": [
            "<class 'pandas.core.frame.DataFrame'>\n",
            "RangeIndex: 785 entries, 7065 to 7849\n",
            "Data columns (total 3 columns):\n",
            " #   Column    Non-Null Count  Dtype \n",
            "---  ------    --------------  ----- \n",
            " 0   title     785 non-null    object\n",
            " 1   original  785 non-null    object\n",
            " 2   label     785 non-null    object\n",
            "dtypes: object(3)\n",
            "memory usage: 18.5+ KB\n"
          ]
        }
      ]
    },
    {
      "cell_type": "code",
      "source": [
        "val_df.info()"
      ],
      "metadata": {
        "colab": {
          "base_uri": "https://localhost:8080/"
        },
        "id": "1G22735v73TN",
        "outputId": "a50a3dfc-d074-47f5-f881-55559174a3fc"
      },
      "execution_count": null,
      "outputs": [
        {
          "output_type": "stream",
          "name": "stdout",
          "text": [
            "<class 'pandas.core.frame.DataFrame'>\n",
            "RangeIndex: 785 entries, 6280 to 7064\n",
            "Data columns (total 3 columns):\n",
            " #   Column    Non-Null Count  Dtype \n",
            "---  ------    --------------  ----- \n",
            " 0   title     785 non-null    object\n",
            " 1   original  785 non-null    object\n",
            " 2   label     785 non-null    object\n",
            "dtypes: object(3)\n",
            "memory usage: 18.5+ KB\n"
          ]
        }
      ]
    },
    {
      "cell_type": "code",
      "source": [
        "plt.figure(figsize=(20, 6))\n",
        "sns.countplot(x='label', data=df , orient='h')\n",
        "plt.show()"
      ],
      "metadata": {
        "colab": {
          "base_uri": "https://localhost:8080/",
          "height": 388
        },
        "id": "wuIcQaUK8VVX",
        "outputId": "f15d6a6c-64dd-4d00-d62c-519c1cc72a48"
      },
      "execution_count": null,
      "outputs": [
        {
          "output_type": "display_data",
          "data": {
            "text/plain": [
              "<Figure size 1440x432 with 1 Axes>"
            ],
            "image/png": "[encoded data removed]"
          },
          "metadata": {
            "needs_background": "light"
          }
        }
      ]
    },
    {
      "cell_type": "code",
      "source": [
        "!pip install transformers"
      ],
      "metadata": {
        "id": "JZqNgTi5r3OX"
      },
      "execution_count": null,
      "outputs": []
    },
    {
      "cell_type": "code",
      "source": [
        "from transformers import AutoModel, AutoTokenizer"
      ],
      "metadata": {
        "id": "6YxdxbLUrpHQ"
      },
      "execution_count": null,
      "outputs": []
    },
    {
      "cell_type": "code",
      "source": [
        "tokenizer = AutoTokenizer.from_pretrained(\"vinai/phobert-base\", use_fast=False)"
      ],
      "metadata": {
        "id": "twupD98o8XY3"
      },
      "execution_count": null,
      "outputs": []
    },
    {
      "cell_type": "code",
      "source": [
        "class SentimentDataset(Dataset):\n",
        "    def __init__(self, df, tokenizer, max_len=120):\n",
        "        self.df = df\n",
        "        self.max_len = max_len\n",
        "        self.tokenizer = tokenizer\n",
        "    \n",
        "    def __len__(self):\n",
        "        return len(self.df)\n",
        "\n",
        "    def __getitem__(self, index):\n",
        "        row = self.df.iloc[index]\n",
        "        text, label = self.get_input_data(row)\n",
        "        encoding = self.tokenizer.encode_plus(\n",
        "            text,\n",
        "            truncation=True,\n",
        "            add_special_tokens=True,\n",
        "            max_length=self.max_len,\n",
        "            padding='max_length',\n",
        "            return_attention_mask=True,\n",
        "            return_token_type_ids=False,\n",
        "            return_tensors='pt',\n",
        "        )\n",
        "        \n",
        "        return {\n",
        "            'text': text,\n",
        "            'input_ids': encoding['input_ids'].flatten(),\n",
        "            'attention_masks': encoding['attention_mask'].flatten(),\n",
        "            'targets': torch.tensor(label, dtype=torch.long),\n",
        "        }\n",
        "\n",
        "\n",
        "    def labelencoder(self,text):\n",
        "        if text=='Xe':\n",
        "            return 0\n",
        "        elif text=='Hai':\n",
        "            return 1\n",
        "        elif text=='TheGioi':\n",
        "            return 2\n",
        "        elif text=='GiaiTri':\n",
        "            return 3\n",
        "        elif text=='TheThao':\n",
        "            return 4\n",
        "        elif text=='GiaoDuc':\n",
        "            return 5\n",
        "        elif text=='PhapLuat':\n",
        "            return 6\n",
        "        elif text=='GocNhin':\n",
        "            return 7\n",
        "        elif text=='DuLich':\n",
        "            return 8\n",
        "        elif text=='SucKhoe':\n",
        "            return 9\n",
        "        elif text=='KhoaHoc':\n",
        "            return 10 \n",
        "        elif text=='KinhDoanh':\n",
        "            return 11\n",
        "        elif text=='ThoiSu':\n",
        "            return 12\n",
        "        elif text=='SoHoa':\n",
        "            return 13\n",
        "        elif text=='TuongThuat':\n",
        "            return 14\n",
        "        elif text=='DoiSong':\n",
        "            return 15   \n",
        "        else:\n",
        "            return \n",
        "\n",
        "    def get_input_data(self, row):\n",
        "        text = row['original']\n",
        "        text = ' '.join(simple_preprocess(text))\n",
        "        label = self.labelencoder(row['Emotion'])\n",
        "\n",
        "        return text, label"
      ],
      "metadata": {
        "id": "7QmD39vv8Xjq"
      },
      "execution_count": null,
      "outputs": []
    },
    {
      "cell_type": "code",
      "source": [
        "from gensim.utils import simple_preprocess"
      ],
      "metadata": {
        "id": "HoJ4z82huTOG"
      },
      "execution_count": null,
      "outputs": []
    },
    {
      "cell_type": "code",
      "source": [
        "# Distribution of length of Sentence\n",
        "all_data = train_df.original.tolist() + test_df.original.tolist()\n",
        "all_data = [' '.join(simple_preprocess(text)) for text in all_data]\n",
        "encoded_text = [tokenizer.encode(text, add_special_tokens=True) for text in all_data]\n",
        "token_lens = [len(text) for text in encoded_text]\n",
        "sns.displot(token_lens)\n",
        "plt.xlim([0,max(token_lens)])\n",
        "plt.xlabel('Token Count')"
      ],
      "metadata": {
        "colab": {
          "base_uri": "https://localhost:8080/",
          "height": 400
        },
        "id": "VD-URQhaB1xv",
        "outputId": "7b7e1871-0b19-418b-fb44-9ddad6048d98"
      },
      "execution_count": null,
      "outputs": [
        {
          "output_type": "execute_result",
          "data": {
            "text/plain": [
              "Text(0.5, 6.79999999999999, 'Token Count')"
            ]
          },
          "metadata": {},
          "execution_count": 152
        },
        {
          "output_type": "display_data",
          "data": {
            "text/plain": [
              "<Figure size 360x360 with 1 Axes>"
            ],
            "image/png": "[encoded data removed]"
          },
          "metadata": {
            "needs_background": "light"
          }
        }
      ]
    },
    {
      "cell_type": "code",
      "source": [
        "class SentimentClassifier(nn.Module):\n",
        "    def __init__(self, n_classes):\n",
        "        super(SentimentClassifier, self).__init__()\n",
        "        self.bert = AutoModel.from_pretrained(\"vinai/phobert-base\")\n",
        "        self.drop = nn.Dropout(p=0.3)\n",
        "        self.fc = nn.Linear(self.bert.config.hidden_size, n_classes)\n",
        "        nn.init.normal_(self.fc.weight, std=0.02)\n",
        "        nn.init.normal_(self.fc.bias, 0)\n",
        "\n",
        "    def forward(self, input_ids, attention_mask):\n",
        "        last_hidden_state, output = self.bert(\n",
        "            input_ids=input_ids,\n",
        "            attention_mask=attention_mask,\n",
        "            return_dict=False # Dropout will errors if without this\n",
        "        )\n",
        "\n",
        "        x = self.drop(output)\n",
        "        x = self.fc(x)\n",
        "        return x"
      ],
      "metadata": {
        "id": "EpZ6GtASB3--"
      },
      "execution_count": null,
      "outputs": []
    },
    {
      "cell_type": "code",
      "source": [
        "def train(model, criterion, optimizer, train_loader):\n",
        "    model.train()\n",
        "    losses = []\n",
        "    correct = 0\n",
        "\n",
        "    for data in train_loader:\n",
        "        input_ids = data['input_ids'].to(device)\n",
        "        attention_mask = data['attention_masks'].to(device)\n",
        "        targets = data['targets'].to(device)\n",
        "\n",
        "        optimizer.zero_grad()\n",
        "        outputs = model(\n",
        "            input_ids=input_ids,\n",
        "            attention_mask=attention_mask\n",
        "        )\n",
        "\n",
        "        loss = criterion(outputs, targets)\n",
        "        _, pred = torch.max(outputs, dim=1)\n",
        "\n",
        "        correct += torch.sum(pred == targets)\n",
        "        losses.append(loss.item())\n",
        "        loss.backward()\n",
        "        nn.utils.clip_grad_norm_(model.parameters(), max_norm=1.0)\n",
        "        optimizer.step()\n",
        "        lr_scheduler.step()\n",
        "\n",
        "    print(f'Train Accuracy: {correct.double()/len(train_loader.dataset)} Loss: {np.mean(losses)}')\n",
        "\n",
        "def eval(test_data = False):\n",
        "    model.eval()\n",
        "    losses = []\n",
        "    correct = 0\n",
        "\n",
        "    with torch.no_grad():\n",
        "        data_loader = test_loader if test_data else valid_loader\n",
        "        for data in data_loader:\n",
        "            input_ids = data['input_ids'].to(device)\n",
        "            attention_mask = data['attention_masks'].to(device)\n",
        "            targets = data['targets'].to(device)\n",
        "\n",
        "            outputs = model(\n",
        "                input_ids=input_ids,\n",
        "                attention_mask=attention_mask\n",
        "            )\n",
        "\n",
        "            _, pred = torch.max(outputs, dim=1)\n",
        "\n",
        "            loss = criterion(outputs, targets)\n",
        "            correct += torch.sum(pred == targets)\n",
        "            losses.append(loss.item())\n",
        "    \n",
        "    if test_data:\n",
        "        print(f'Test Accuracy: {correct.double()/len(test_loader.dataset)} Loss: {np.mean(losses)}')\n",
        "        return correct.double()/len(test_loader.dataset)\n",
        "    else:\n",
        "        print(f'Valid Accuracy: {correct.double()/len(valid_loader.dataset)} Loss: {np.mean(losses)}')\n",
        "        return correct.double()/len(valid_loader.dataset)"
      ],
      "metadata": {
        "id": "47KoJTpFDOu2"
      },
      "execution_count": null,
      "outputs": []
    },
    {
      "cell_type": "code",
      "source": [
        "def seed_everything(seed_value):\n",
        "    np.random.seed(seed_value)\n",
        "    torch.manual_seed(seed_value)\n",
        "    \n",
        "    if torch.cuda.is_available(): \n",
        "        torch.cuda.manual_seed(seed_value)\n",
        "        torch.cuda.manual_seed_all(seed_value)\n",
        "        torch.backends.cudnn.deterministic = True\n",
        "        torch.backends.cudnn.benchmark = True\n",
        "\n",
        "seed_everything(86)"
      ],
      "metadata": {
        "id": "ZO8plupVu1Ug"
      },
      "execution_count": null,
      "outputs": []
    },
    {
      "cell_type": "code",
      "source": [
        "def prepare_loaders(df, fold):\n",
        "    df_train = df[df.kfold != fold].reset_index(drop=True)\n",
        "    df_valid = df[df.kfold == fold].reset_index(drop=True)\n",
        "    \n",
        "    train_dataset = ClassifierDataset(df_train, tokenizer, max_len=120)\n",
        "    valid_dataset = ClassifierDataset(df_valid, tokenizer, max_len=120)\n",
        "    \n",
        "    train_loader = DataLoader(train_dataset, batch_size=16, shuffle=True, num_workers=2)\n",
        "    valid_loader = DataLoader(valid_dataset, batch_size=16, shuffle=True, num_workers=2)\n",
        "    \n",
        "    return train_loader, valid_loader"
      ],
      "metadata": {
        "id": "RipU-oEvvC8r"
      },
      "execution_count": null,
      "outputs": []
    },
    {
      "cell_type": "code",
      "source": [
        "skf = StratifiedKFold(n_splits=N_SPLITS)\n",
        "for fold, (_, val_) in enumerate(skf.split(X=train_df, y=train_df.label)):\n",
        "    train_df.loc[val_, \"kfold\"] = fold"
      ],
      "metadata": {
        "id": "dSejg566xtHJ"
      },
      "execution_count": null,
      "outputs": []
    },
    {
      "cell_type": "code",
      "source": [
        "for fold in range(skf.n_splits):\n",
        "    print(f'-----------Fold: {fold+1} ------------------')\n",
        "    train_loader, valid_loader = prepare_loaders(train_df, fold=fold)\n",
        "    model = SentimentClassifier(n_classes=16).to(device)\n",
        "    criterion = nn.CrossEntropyLoss()\n",
        "    # Recommendation by BERT: lr: 5e-5, 2e-5, 3e-5\n",
        "    # Batchsize: 16, 32\n",
        "    optimizer = AdamW(model.parameters(), lr=2e-5)\n",
        "    \n",
        "    lr_scheduler = get_linear_schedule_with_warmup(\n",
        "                optimizer, \n",
        "                num_warmup_steps=0, \n",
        "                num_training_steps=len(train_loader)*EPOCHS\n",
        "            )\n",
        "    best_acc = 0\n",
        "    for epoch in range(EPOCHS):\n",
        "        print(f'Epoch {epoch+1}/{EPOCHS}')\n",
        "        print('-'*30)\n",
        "\n",
        "        train(model, criterion, optimizer, train_loader)\n",
        "        val_acc = eval()\n",
        "\n",
        "        if val_acc > best_acc:\n",
        "            torch.save(model.state_dict(), f'phobert_fold{fold+1}.pth')\n",
        "            best_acc = val_acc"
      ],
      "metadata": {
        "colab": {
          "base_uri": "https://localhost:8080/",
          "height": 1000,
          "referenced_widgets": [
            "f3aca4146c7c404391cc42712a0003d6",
            "dfd0d73808e7401fa1b34914f5b94ddd",
            "8012ca23be7040b2b32edbe20db399bd",
            "b3724594d67f4d0fbf80a8de7e423940",
            "d9d7c2b1b65f44b687050afd0a666cee",
            "6599e4b10c5947138628cbd1cb05cd0d",
            "2e407e31f94c4381a3cee4212814017a",
            "70f630392d8c4e03b585c28eb6636ead",
            "e0d864820b584be289de94d79942c092",
            "be2fa954bb3c4799849f69df84379084",
            "1614e149c46948a48d3722a64b2cf432"
          ]
        },
        "id": "LmUOEckrv5Nw",
        "outputId": "3deca1d6-051a-4145-edaa-3ae2c311577e"
      },
      "execution_count": null,
      "outputs": [
        {
          "output_type": "stream",
          "name": "stdout",
          "text": [
            "-----------Fold: 1 ------------------\n"
          ]
        },
        {
          "output_type": "display_data",
          "data": {
            "text/plain": [
              "Downloading (…)\"pytorch_model.bin\";:   0%|          | 0.00/543M [00:00<?, ?B/s]"
            ],
            "application/vnd.jupyter.widget-view+json": {
              "version_major": 2,
              "version_minor": 0,
              "model_id": "f3aca4146c7c404391cc42712a0003d6"
            }
          },
          "metadata": {}
        },
        {
          "output_type": "stream",
          "name": "stdout",
          "text": [
            "Epoch 1/6\n",
            "------------------------------\n",
            "Train Accuracy: 0.5495621019108281 Loss: 1.8476701581933697\n",
            "Valid Accuracy: 0.8248407643312102 Loss: 1.0124760911434512\n",
            "Epoch 2/6\n",
            "------------------------------\n",
            "Train Accuracy: 0.8662420382165605 Loss: 0.7641533300944954\n",
            "Valid Accuracy: 0.8726114649681529 Loss: 0.5813085729185539\n",
            "Epoch 3/6\n",
            "------------------------------\n",
            "Train Accuracy: 0.9239649681528663 Loss: 0.40328915198897103\n",
            "Valid Accuracy: 0.89171974522293 Loss: 0.4623512172057659\n",
            "Epoch 4/6\n",
            "------------------------------\n",
            "Train Accuracy: 0.955015923566879 Loss: 0.2404085732877824\n",
            "Valid Accuracy: 0.8789808917197452 Loss: 0.464037970887332\n",
            "Epoch 5/6\n",
            "------------------------------\n",
            "Train Accuracy: 0.9725318471337581 Loss: 0.14800101319909287\n",
            "Valid Accuracy: 0.8909235668789809 Loss: 0.4704656263789799\n",
            "Epoch 6/6\n",
            "------------------------------\n",
            "Train Accuracy: 0.9806926751592357 Loss: 0.11306337190637733\n",
            "Valid Accuracy: 0.9004777070063694 Loss: 0.4558346784331753\n",
            "-----------Fold: 2 ------------------\n",
            "Epoch 1/6\n",
            "------------------------------\n",
            "Train Accuracy: 0.5205015923566879 Loss: 1.9472080788035302\n",
            "Valid Accuracy: 0.7945859872611465 Loss: 1.0318699154672744\n",
            "Epoch 2/6\n",
            "------------------------------\n",
            "Train Accuracy: 0.8636544585987261 Loss: 0.7789926258431878\n",
            "Valid Accuracy: 0.8861464968152867 Loss: 0.5602723477007467\n",
            "Epoch 3/6\n",
            "------------------------------\n",
            "Train Accuracy: 0.9223726114649682 Loss: 0.4263963119666668\n",
            "Valid Accuracy: 0.8996815286624205 Loss: 0.4524743378728251\n",
            "Epoch 4/6\n",
            "------------------------------\n",
            "Train Accuracy: 0.9522292993630573 Loss: 0.2517413155644373\n",
            "Valid Accuracy: 0.9028662420382166 Loss: 0.41832951064917107\n",
            "Epoch 5/6\n",
            "------------------------------\n",
            "Train Accuracy: 0.9751194267515924 Loss: 0.1444896190860279\n",
            "Valid Accuracy: 0.9012738853503185 Loss: 0.4527422538192212\n",
            "Epoch 6/6\n",
            "------------------------------\n",
            "Train Accuracy: 0.9822850318471338 Loss: 0.10013060493003222\n",
            "Valid Accuracy: 0.9044585987261147 Loss: 0.4385410399895303\n",
            "-----------Fold: 3 ------------------\n",
            "Epoch 1/6\n",
            "------------------------------\n",
            "Train Accuracy: 0.539609872611465 Loss: 1.894982864142983\n",
            "Valid Accuracy: 0.8065286624203822 Loss: 0.9620994065381303\n",
            "Epoch 2/6\n",
            "------------------------------\n",
            "Train Accuracy: 0.8626592356687899 Loss: 0.7304109703203675\n",
            "Valid Accuracy: 0.8654458598726115 Loss: 0.5713095863031435\n",
            "Epoch 3/6\n",
            "------------------------------\n",
            "Train Accuracy: 0.9195859872611466 Loss: 0.4029256737061367\n",
            "Valid Accuracy: 0.873407643312102 Loss: 0.4869041203320781\n",
            "Epoch 4/6\n",
            "------------------------------\n",
            "Train Accuracy: 0.9456608280254778 Loss: 0.24718910305031166\n",
            "Valid Accuracy: 0.8821656050955414 Loss: 0.4720772324200672\n",
            "Epoch 5/6\n",
            "------------------------------\n",
            "Train Accuracy: 0.967953821656051 Loss: 0.15827196816302788\n",
            "Valid Accuracy: 0.89171974522293 Loss: 0.4862812651392025\n",
            "Epoch 6/6\n",
            "------------------------------\n",
            "Train Accuracy: 0.9802945859872612 Loss: 0.1139384204711599\n",
            "Valid Accuracy: 0.8901273885350319 Loss: 0.47521749862670143\n",
            "-----------Fold: 4 ------------------\n",
            "Epoch 1/6\n",
            "------------------------------\n",
            "Train Accuracy: 0.5714570063694268 Loss: 1.7788218054801794\n",
            "Valid Accuracy: 0.8264331210191084 Loss: 0.9358459492272968\n",
            "Epoch 2/6\n",
            "------------------------------\n",
            "Train Accuracy: 0.873407643312102 Loss: 0.7048314908982083\n",
            "Valid Accuracy: 0.8614649681528663 Loss: 0.5856328738641136\n",
            "Epoch 3/6\n",
            "------------------------------\n",
            "Train Accuracy: 0.92296974522293 Loss: 0.38938751933016597\n",
            "Valid Accuracy: 0.8805732484076434 Loss: 0.5051480429836467\n",
            "Epoch 4/6\n",
            "------------------------------\n",
            "Train Accuracy: 0.9574044585987261 Loss: 0.22712194412994158\n",
            "Valid Accuracy: 0.8805732484076434 Loss: 0.4805292076890982\n",
            "Epoch 5/6\n",
            "------------------------------\n",
            "Train Accuracy: 0.9725318471337581 Loss: 0.14648185910621456\n",
            "Valid Accuracy: 0.8845541401273885 Loss: 0.5022502386164439\n",
            "Epoch 6/6\n",
            "------------------------------\n",
            "Train Accuracy: 0.9824840764331211 Loss: 0.09836343569075985\n",
            "Valid Accuracy: 0.8877388535031847 Loss: 0.4997203220389312\n",
            "-----------Fold: 5 ------------------\n",
            "Epoch 1/6\n",
            "------------------------------\n",
            "Train Accuracy: 0.5997213375796179 Loss: 1.7184376931114562\n",
            "Valid Accuracy: 0.8447452229299364 Loss: 0.8488917026338698\n",
            "Epoch 2/6\n",
            "------------------------------\n",
            "Train Accuracy: 0.8811703821656052 Loss: 0.6665340797726516\n",
            "Valid Accuracy: 0.8805732484076434 Loss: 0.5532870317184473\n",
            "Epoch 3/6\n",
            "------------------------------\n",
            "Train Accuracy: 0.9341162420382166 Loss: 0.351229197375334\n",
            "Valid Accuracy: 0.8901273885350319 Loss: 0.46783999155593825\n",
            "Epoch 4/6\n",
            "------------------------------\n",
            "Train Accuracy: 0.9625796178343949 Loss: 0.19476275403455945\n",
            "Valid Accuracy: 0.8988853503184714 Loss: 0.44939030676231356\n",
            "Epoch 5/6\n",
            "------------------------------\n",
            "Train Accuracy: 0.9759156050955414 Loss: 0.12906362357175655\n",
            "Valid Accuracy: 0.8988853503184714 Loss: 0.4770821296150171\n",
            "Epoch 6/6\n",
            "------------------------------\n",
            "Train Accuracy: 0.9832802547770702 Loss: 0.09190088009260072\n",
            "Valid Accuracy: 0.9028662420382166 Loss: 0.47463766872128355\n"
          ]
        }
      ]
    },
    {
      "cell_type": "code",
      "source": [
        "def test(data_loader):\n",
        "    models = []\n",
        "    for fold in range(skf.n_splits):\n",
        "        model = SentimentClassifier(n_classes=16)\n",
        "        model.to(device)\n",
        "        model.load_state_dict(torch.load(f'phobert_fold{fold+1}.pth'))\n",
        "        model.eval()\n",
        "        models.append(model)\n",
        "\n",
        "    texts = []\n",
        "    predicts = []\n",
        "    predict_probs = []\n",
        "    real_values = []\n",
        "\n",
        "    for data in data_loader:\n",
        "        text = data['text']\n",
        "        input_ids = data['input_ids'].to(device)\n",
        "        attention_mask = data['attention_masks'].to(device)\n",
        "        targets = data['targets'].to(device)\n",
        "\n",
        "        total_outs = []\n",
        "        for model in models:\n",
        "            with torch.no_grad():\n",
        "                outputs = model(\n",
        "                    input_ids=input_ids,\n",
        "                    attention_mask=attention_mask\n",
        "                )\n",
        "                total_outs.append(outputs)\n",
        "        \n",
        "        total_outs = torch.stack(total_outs)\n",
        "        _, pred = torch.max(total_outs.mean(0), dim=1)\n",
        "        texts.extend(text)\n",
        "        predicts.extend(pred)\n",
        "        predict_probs.extend(total_outs.mean(0))\n",
        "        real_values.extend(targets)\n",
        "    \n",
        "    predicts = torch.stack(predicts).cpu()\n",
        "    predict_probs = torch.stack(predict_probs).cpu()\n",
        "    real_values = torch.stack(real_values).cpu()\n",
        "    print(classification_report(real_values, predicts))\n",
        "    return real_values, predicts"
      ],
      "metadata": {
        "id": "DLumJZ-IDpfb"
      },
      "execution_count": null,
      "outputs": []
    },
    {
      "cell_type": "code",
      "source": [
        "test_dataset =  SentimentDataset(test_df,tokenizer, max_len=120)\n",
        "test_loader = DataLoader(test_dataset, batch_size=8, shuffle=True, num_workers=2)\n",
        "real_values, predicts = test(test_loader)"
      ],
      "metadata": {
        "colab": {
          "base_uri": "https://localhost:8080/",
          "height": 200
        },
        "id": "KYrFzYj4Dv14",
        "outputId": "2c346ffa-e37c-46ff-fa71-b7a32ee73197"
      },
      "execution_count": null,
      "outputs": [
        {
          "output_type": "error",
          "ename": "NameError",
          "evalue": "ignored",
          "traceback": [
            "\u001b[0;31m---------------------------------------------------------------------------\u001b[0m",
            "\u001b[0;31mNameError\u001b[0m                                 Traceback (most recent call last)",
            "\u001b[0;32m<ipython-input-1-c5b5effefc02>\u001b[0m in \u001b[0;36m<module>\u001b[0;34m\u001b[0m\n\u001b[0;32m----> 1\u001b[0;31m \u001b[0mtest_dataset\u001b[0m \u001b[0;34m=\u001b[0m  \u001b[0mSentimentDataset\u001b[0m\u001b[0;34m(\u001b[0m\u001b[0mtest_df\u001b[0m\u001b[0;34m,\u001b[0m\u001b[0mtokenizer\u001b[0m\u001b[0;34m,\u001b[0m \u001b[0mmax_len\u001b[0m\u001b[0;34m=\u001b[0m\u001b[0;36m120\u001b[0m\u001b[0;34m)\u001b[0m\u001b[0;34m\u001b[0m\u001b[0;34m\u001b[0m\u001b[0m\n\u001b[0m\u001b[1;32m      2\u001b[0m \u001b[0mtest_loader\u001b[0m \u001b[0;34m=\u001b[0m \u001b[0mDataLoader\u001b[0m\u001b[0;34m(\u001b[0m\u001b[0mtest_dataset\u001b[0m\u001b[0;34m,\u001b[0m \u001b[0mbatch_size\u001b[0m\u001b[0;34m=\u001b[0m\u001b[0;36m8\u001b[0m\u001b[0;34m,\u001b[0m \u001b[0mshuffle\u001b[0m\u001b[0;34m=\u001b[0m\u001b[0;32mTrue\u001b[0m\u001b[0;34m,\u001b[0m \u001b[0mnum_workers\u001b[0m\u001b[0;34m=\u001b[0m\u001b[0;36m2\u001b[0m\u001b[0;34m)\u001b[0m\u001b[0;34m\u001b[0m\u001b[0;34m\u001b[0m\u001b[0m\n\u001b[1;32m      3\u001b[0m \u001b[0mreal_values\u001b[0m\u001b[0;34m,\u001b[0m \u001b[0mpredicts\u001b[0m \u001b[0;34m=\u001b[0m \u001b[0mtest\u001b[0m\u001b[0;34m(\u001b[0m\u001b[0mtest_loader\u001b[0m\u001b[0;34m)\u001b[0m\u001b[0;34m\u001b[0m\u001b[0;34m\u001b[0m\u001b[0m\n",
            "\u001b[0;31mNameError\u001b[0m: name 'SentimentDataset' is not defined"
          ]
        }
      ]
    },
    {
      "cell_type": "code",
      "source": [
        "class_names = ['Xe','Hai','TheGioi','GiaiTri','TheThao','GiaoDuc','PhapLuat','GocNhin','DuLich','SucKhoe','KhoaHoc','KinhDoanh','ThoiSu','SoHoa','TuongThuat','DoiSong']\n",
        "sns.heatmap(confusion_matrix(real_values, predicts), annot=False, xticklabels = class_names, yticklabels = class_names)"
      ],
      "metadata": {
        "colab": {
          "base_uri": "https://localhost:8080/",
          "height": 183
        },
        "id": "06kEH-EYE7X_",
        "outputId": "92908cff-80fc-4d3e-dec5-bbf0a908fe23"
      },
      "execution_count": null,
      "outputs": [
        {
          "output_type": "error",
          "ename": "NameError",
          "evalue": "ignored",
          "traceback": [
            "\u001b[0;31m---------------------------------------------------------------------------\u001b[0m",
            "\u001b[0;31mNameError\u001b[0m                                 Traceback (most recent call last)",
            "\u001b[0;32m<ipython-input-195-935367419311>\u001b[0m in \u001b[0;36m<module>\u001b[0;34m\u001b[0m\n\u001b[1;32m      1\u001b[0m \u001b[0mclass_names\u001b[0m \u001b[0;34m=\u001b[0m \u001b[0;34m[\u001b[0m\u001b[0;34m'Xe'\u001b[0m\u001b[0;34m,\u001b[0m\u001b[0;34m'Hai'\u001b[0m\u001b[0;34m,\u001b[0m\u001b[0;34m'TheGioi'\u001b[0m\u001b[0;34m,\u001b[0m\u001b[0;34m'GiaiTri'\u001b[0m\u001b[0;34m,\u001b[0m\u001b[0;34m'TheThao'\u001b[0m\u001b[0;34m,\u001b[0m\u001b[0;34m'GiaoDuc'\u001b[0m\u001b[0;34m,\u001b[0m\u001b[0;34m'PhapLuat'\u001b[0m\u001b[0;34m,\u001b[0m\u001b[0;34m'GocNhin'\u001b[0m\u001b[0;34m,\u001b[0m\u001b[0;34m'DuLich'\u001b[0m\u001b[0;34m,\u001b[0m\u001b[0;34m'SucKhoe'\u001b[0m\u001b[0;34m,\u001b[0m\u001b[0;34m'KhoaHoc'\u001b[0m\u001b[0;34m,\u001b[0m\u001b[0;34m'KinhDoanh'\u001b[0m\u001b[0;34m,\u001b[0m\u001b[0;34m'ThoiSu'\u001b[0m\u001b[0;34m,\u001b[0m\u001b[0;34m'SoHoa'\u001b[0m\u001b[0;34m,\u001b[0m\u001b[0;34m'TuongThuat'\u001b[0m\u001b[0;34m,\u001b[0m\u001b[0;34m'DoiSong'\u001b[0m\u001b[0;34m]\u001b[0m\u001b[0;34m\u001b[0m\u001b[0;34m\u001b[0m\u001b[0m\n\u001b[0;32m----> 2\u001b[0;31m \u001b[0msns\u001b[0m\u001b[0;34m.\u001b[0m\u001b[0mheatmap\u001b[0m\u001b[0;34m(\u001b[0m\u001b[0mconfusion_matrix\u001b[0m\u001b[0;34m(\u001b[0m\u001b[0mreal_values\u001b[0m\u001b[0;34m,\u001b[0m \u001b[0mpredicts\u001b[0m\u001b[0;34m)\u001b[0m\u001b[0;34m,\u001b[0m \u001b[0mannot\u001b[0m\u001b[0;34m=\u001b[0m\u001b[0;32mFalse\u001b[0m\u001b[0;34m,\u001b[0m \u001b[0mxticklabels\u001b[0m \u001b[0;34m=\u001b[0m \u001b[0mclass_names\u001b[0m\u001b[0;34m,\u001b[0m \u001b[0myticklabels\u001b[0m \u001b[0;34m=\u001b[0m \u001b[0mclass_names\u001b[0m\u001b[0;34m)\u001b[0m\u001b[0;34m\u001b[0m\u001b[0;34m\u001b[0m\u001b[0m\n\u001b[0m",
            "\u001b[0;31mNameError\u001b[0m: name 'real_values' is not defined"
          ]
        }
      ]
    }
  ]
}